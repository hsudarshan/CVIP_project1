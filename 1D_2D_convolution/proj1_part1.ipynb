{
 "cells": [
  {
   "cell_type": "markdown",
   "metadata": {},
   "source": [
    "# 2-d convolution"
   ]
  },
  {
   "cell_type": "markdown",
   "metadata": {},
   "source": [
    "Importing required libraries"
   ]
  },
  {
   "cell_type": "code",
   "execution_count": 265,
   "metadata": {
    "collapsed": true
   },
   "outputs": [],
   "source": [
    "import os\n",
    "import numpy as np\n",
    "import cv2"
   ]
  },
  {
   "cell_type": "markdown",
   "metadata": {},
   "source": [
    "importing the image into the workspace"
   ]
  },
  {
   "cell_type": "code",
   "execution_count": 266,
   "metadata": {
    "collapsed": false
   },
   "outputs": [
    {
     "data": {
      "text/plain": [
       "numpy.ndarray"
      ]
     },
     "execution_count": 266,
     "metadata": {},
     "output_type": "execute_result"
    }
   ],
   "source": [
    "os.getcwd()\n",
    "img = cv2.imread('lena_gray.jpg',0)\n",
    "type(img)"
   ]
  },
  {
   "cell_type": "markdown",
   "metadata": {},
   "source": [
    "create filter kernels"
   ]
  },
  {
   "cell_type": "code",
   "execution_count": 267,
   "metadata": {
    "collapsed": true
   },
   "outputs": [],
   "source": [
    "#Gx\n",
    "gx = np.array([[-1,0,1],[-2,0,2],[-1,0,1]],np.int_)\n",
    "#Gy\n",
    "gy = np.array([[-1,-2,-1],[0,0,0],[1,2,1]],np.int_)"
   ]
  },
  {
   "cell_type": "markdown",
   "metadata": {},
   "source": [
    "For convolution, create function to flip the filter kernel"
   ]
  },
  {
   "cell_type": "code",
   "execution_count": 268,
   "metadata": {
    "collapsed": true
   },
   "outputs": [],
   "source": [
    "def flip_arr(m):\n",
    "    return np.fliplr(np.flipud(m))"
   ]
  },
  {
   "cell_type": "markdown",
   "metadata": {},
   "source": [
    "Create a function to perform the actual convolution on the image\n",
    "Input to the function to be an image matrix and filter"
   ]
  },
  {
   "cell_type": "code",
   "execution_count": 269,
   "metadata": {
    "collapsed": false
   },
   "outputs": [],
   "source": [
    "def Two_D_convolution(image,filter):\n",
    "    npad = ((1,1), (1,1))\n",
    "    img_pad= np.pad(img,npad,mode='constant',constant_values=0)\n",
    "    filtered_img = np.zeros((img.shape[0],img.shape[1]),dtype=np.int_)\n",
    "    filter_flipped = flip_arr(filter)\n",
    "    filtered_img = np.zeros(img.shape,dtype=np.int_)\n",
    "    for row in range(1,img_pad.shape[0]-1):\n",
    "        for col in range(1,img_pad.shape[1]-1):\n",
    "            mat_I = img_pad[row-1:row+2,col-1:col+2]\n",
    "            val = filter_flipped * mat_I\n",
    "            filtered_img[row-1,col-1] =  max(0,int(np.average(val)))\n",
    "    return filtered_img"
   ]
  },
  {
   "cell_type": "code",
   "execution_count": 270,
   "metadata": {
    "collapsed": false
   },
   "outputs": [],
   "source": [
    "filtered_img_gy = Two_D_convolution(img,gy)\n",
    "filtered_img_gx = Two_D_convolution(img,gx)"
   ]
  },
  {
   "cell_type": "markdown",
   "metadata": {},
   "source": [
    "Define a rudimentary matplotlib "
   ]
  },
  {
   "cell_type": "code",
   "execution_count": 271,
   "metadata": {
    "collapsed": true
   },
   "outputs": [],
   "source": [
    "from matplotlib import pyplot as plt\n",
    "def plot_me(img):\n",
    "    plt.imshow(img, cmap = 'gray', interpolation = 'bicubic')\n",
    "    plt.xticks([]), plt.yticks([])  # to hide tick values on X and Y axis\n",
    "    plt.show()"
   ]
  },
  {
   "cell_type": "code",
   "execution_count": 272,
   "metadata": {
    "collapsed": true
   },
   "outputs": [],
   "source": [
    "plot_me(filtered_img_gx)"
   ]
  },
  {
   "cell_type": "code",
   "execution_count": 273,
   "metadata": {
    "collapsed": true
   },
   "outputs": [],
   "source": [
    "plot_me(filtered_img_gy)"
   ]
  },
  {
   "cell_type": "code",
   "execution_count": 274,
   "metadata": {
    "collapsed": true
   },
   "outputs": [],
   "source": [
    "g_mag = np.power(filtered_img_gx,2) + np.power(filtered_img_gy,2)"
   ]
  },
  {
   "cell_type": "code",
   "execution_count": 275,
   "metadata": {
    "collapsed": true
   },
   "outputs": [],
   "source": [
    "g_mag = np.power(g_mag,0.5)"
   ]
  },
  {
   "cell_type": "code",
   "execution_count": 276,
   "metadata": {
    "collapsed": true
   },
   "outputs": [],
   "source": [
    "plot_me(g_mag)"
   ]
  },
  {
   "cell_type": "markdown",
   "metadata": {},
   "source": [
    "# 1-d convolution"
   ]
  },
  {
   "cell_type": "code",
   "execution_count": 277,
   "metadata": {
    "collapsed": false
   },
   "outputs": [],
   "source": [
    "gxl = np.array([1, 2, 1],np.int_)\n",
    "gxr = np.array([-1,0,1],np.int_)\n",
    "gyr = np.array([1,2,1],np.int_)\n",
    "gyl = np.array([-1,0,1],np.int_)"
   ]
  },
  {
   "cell_type": "code",
   "execution_count": 278,
   "metadata": {
    "collapsed": false
   },
   "outputs": [],
   "source": [
    "gxr = gxr.reshape(1,3)\n",
    "gxl = gxl.reshape(3,1)\n",
    "gyr = gxr.reshape(1,3)\n",
    "gyl = gxl.reshape(3,1)\n"
   ]
  },
  {
   "cell_type": "code",
   "execution_count": 279,
   "metadata": {
    "collapsed": true
   },
   "outputs": [],
   "source": [
    "def One_D_convolution_row(image,filter):\n",
    "    npad = ((1,1), (1,1))\n",
    "    img_pad= np.pad(img,npad,mode='constant',constant_values=0)\n",
    "    filtered_img = np.zeros((img.shape[0],img.shape[1]),dtype=np.int_)\n",
    "    filter_flipped = np.fliplr(filter)\n",
    "    filtered_img = np.zeros(img.shape,dtype=np.int_)\n",
    "    for row in range(1,img_pad.shape[0]-1):\n",
    "        for col in range(1,img_pad.shape[1]-1):\n",
    "            mat_I = img_pad[row,col-1:col+2]\n",
    "            val = filter_flipped * mat_I\n",
    "            filtered_img[row-1,col-1] =  max(0,int(np.average(val)))\n",
    "    return filtered_img\n"
   ]
  },
  {
   "cell_type": "code",
   "execution_count": 280,
   "metadata": {
    "collapsed": false
   },
   "outputs": [],
   "source": [
    "intermediate1 = One_D_convolution_row(img,gxr)\n",
    "intermediate2 = One_D_convolution_row(img,gyr)"
   ]
  },
  {
   "cell_type": "code",
   "execution_count": 281,
   "metadata": {
    "collapsed": false
   },
   "outputs": [],
   "source": [
    "plot_me(intermediate1)"
   ]
  },
  {
   "cell_type": "code",
   "execution_count": 284,
   "metadata": {
    "collapsed": true
   },
   "outputs": [],
   "source": [
    "def One_D_convolution_col(image,filter):\n",
    "    npad = ((1,1), (1,1))\n",
    "    img_pad= np.pad(img,npad,mode='constant',constant_values=0)\n",
    "    filtered_img = np.zeros((image.shape[0],image.shape[1]),dtype=np.int_)\n",
    "    filter_flipped = np.flipud(filter)\n",
    "    filtered_img = np.zeros(image.shape,dtype=np.int_)\n",
    "    for row in range(1,image.shape[0]-1):\n",
    "        for col in range(1,image.shape[1]-1):\n",
    "            mat_I = intermediate1[row-1:row+2,col]\n",
    "            val = filter_flipped * mat_I\n",
    "            filtered_img[row-1,col-1] =  max(0,int(np.average(val)))\n",
    "    return filtered_img"
   ]
  },
  {
   "cell_type": "code",
   "execution_count": 285,
   "metadata": {
    "collapsed": false
   },
   "outputs": [],
   "source": [
    "gx_one_d = One_D_convolution_col(intermediate1,gxl)\n",
    "gy_one_d = One_D_convolution_col(intermediate2,gyl)"
   ]
  },
  {
   "cell_type": "code",
   "execution_count": 286,
   "metadata": {
    "collapsed": false
   },
   "outputs": [
    {
     "data": {
      "text/plain": [
       "(512L, 512L)"
      ]
     },
     "execution_count": 286,
     "metadata": {},
     "output_type": "execute_result"
    }
   ],
   "source": [
    "gx_one_d.shape\n",
    "gy_one_d.shape"
   ]
  },
  {
   "cell_type": "code",
   "execution_count": 287,
   "metadata": {
    "collapsed": true
   },
   "outputs": [],
   "source": [
    "plot_me(gx_one_d)"
   ]
  },
  {
   "cell_type": "code",
   "execution_count": 288,
   "metadata": {
    "collapsed": true
   },
   "outputs": [],
   "source": [
    "plot_me(gy_one_d)"
   ]
  },
  {
   "cell_type": "code",
   "execution_count": 289,
   "metadata": {
    "collapsed": false
   },
   "outputs": [
    {
     "data": {
      "text/plain": [
       "0.17142868041992188"
      ]
     },
     "execution_count": 289,
     "metadata": {},
     "output_type": "execute_result"
    }
   ],
   "source": [
    "np.average(filtered_img_gx-gx_one_d)"
   ]
  },
  {
   "cell_type": "code",
   "execution_count": 264,
   "metadata": {
    "collapsed": false
   },
   "outputs": [
    {
     "data": {
      "text/plain": [
       "-0.5047760009765625"
      ]
     },
     "execution_count": 264,
     "metadata": {},
     "output_type": "execute_result"
    }
   ],
   "source": [
    "np.average(filtered_img_gy-gy_one_d)"
   ]
  },
  {
   "cell_type": "code",
   "execution_count": null,
   "metadata": {
    "collapsed": true
   },
   "outputs": [],
   "source": []
  }
 ],
 "metadata": {
  "kernelspec": {
   "display_name": "Python 2",
   "language": "python",
   "name": "python2"
  },
  "language_info": {
   "codemirror_mode": {
    "name": "ipython",
    "version": 2
   },
   "file_extension": ".py",
   "mimetype": "text/x-python",
   "name": "python",
   "nbconvert_exporter": "python",
   "pygments_lexer": "ipython2",
   "version": "2.7.11"
  }
 },
 "nbformat": 4,
 "nbformat_minor": 0
}

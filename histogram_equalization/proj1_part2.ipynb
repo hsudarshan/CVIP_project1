{
 "cells": [
  {
   "cell_type": "code",
   "execution_count": 43,
   "metadata": {
    "collapsed": true
   },
   "outputs": [],
   "source": [
    "import cv2\n",
    "import numpy as np\n",
    "from matplotlib import pyplot as plt"
   ]
  },
  {
   "cell_type": "code",
   "execution_count": 44,
   "metadata": {
    "collapsed": true
   },
   "outputs": [],
   "source": [
    "#input the img\n",
    "img = cv2.imread('lena_gray.jpg',0)\n",
    "#compute histogram using numpy's built-in function, with number of bins as 256\n",
    "hgram,bins = np.histogram(img.flatten(),256,[0,256])\n",
    "#compute histograms's cumultive sum using numpy's built in function\n",
    "cumulative_distr_fn = hgram.cumsum()"
   ]
  },
  {
   "cell_type": "code",
   "execution_count": 45,
   "metadata": {
    "collapsed": true
   },
   "outputs": [],
   "source": [
    "#Since the zeros dont matter in histogram calculations, mask them using numpy's masked array\n",
    "cumulative_distr_fn_masked = np.ma.masked_equal(cumulative_distr_fn,0)"
   ]
  },
  {
   "cell_type": "code",
   "execution_count": 46,
   "metadata": {
    "collapsed": true
   },
   "outputs": [],
   "source": [
    "#histogram equalization formula\n",
    "range_cdf = cumulative_distr_fn_masked.max() - cumulative_distr_fn_masked.min()\n",
    "cdf_min = cumulative_distr_fn_masked.min()\n",
    "cumulative_distr_fn_masked = (cumulative_distr_fn_masked - cdf_min)*255/range_cdf"
   ]
  },
  {
   "cell_type": "code",
   "execution_count": 47,
   "metadata": {
    "collapsed": true
   },
   "outputs": [],
   "source": [
    "#np.ma.filled, basically, returns input as an array with masked data replaced by a fill value.\n",
    "cumulative_distr_fn = np.ma.filled(cumulative_distr_fn_masked,0).astype('uint8')"
   ]
  },
  {
   "cell_type": "code",
   "execution_count": 48,
   "metadata": {
    "collapsed": false
   },
   "outputs": [],
   "source": [
    "#applying the equalization and creating a new img name for the same \n",
    "hgram_normalized_img = cumulative_distr_fn[img]"
   ]
  },
  {
   "cell_type": "code",
   "execution_count": 49,
   "metadata": {
    "collapsed": false
   },
   "outputs": [
    {
     "data": {
      "text/plain": [
       "True"
      ]
     },
     "execution_count": 49,
     "metadata": {},
     "output_type": "execute_result"
    }
   ],
   "source": [
    "#saves the equalized img on disk\n",
    "cv2.imwrite('hgram_normalized_img.jpg',hgram_normalized_img)"
   ]
  },
  {
   "cell_type": "code",
   "execution_count": 50,
   "metadata": {
    "collapsed": false
   },
   "outputs": [],
   "source": [
    "#stacking the original and filtered imgs side-by-side\n",
    "final_comparison = np.hstack((img,hgram_normalized_img))"
   ]
  },
  {
   "cell_type": "code",
   "execution_count": 51,
   "metadata": {
    "collapsed": false
   },
   "outputs": [
    {
     "data": {
      "text/plain": [
       "True"
      ]
     },
     "execution_count": 51,
     "metadata": {},
     "output_type": "execute_result"
    }
   ],
   "source": [
    "#writing the img in the same location as this file\n",
    "cv2.imwrite('final_comparison.jpg',final_comparison)"
   ]
  },
  {
   "cell_type": "code",
   "execution_count": 52,
   "metadata": {
    "collapsed": false
   },
   "outputs": [],
   "source": [
    "#plt.plot(cumulative_distr_fn_masked, color = 'r')\n",
    "plt.hist(hgram_normalized_img.flatten(),256,[0,256], color = 'g')\n",
    "plt.hist(img.flatten(),256,[0,256], color = 'y')\n",
    "plt.xlim([0,256])\n",
    "plt.legend(('transformation function normalized','Histogram of the original image'), loc = 'upper left')\n",
    "plt.show()"
   ]
  },
  {
   "cell_type": "code",
   "execution_count": null,
   "metadata": {
    "collapsed": true
   },
   "outputs": [],
   "source": []
  }
 ],
 "metadata": {
  "kernelspec": {
   "display_name": "Python 2",
   "language": "python",
   "name": "python2"
  },
  "language_info": {
   "codemirror_mode": {
    "name": "ipython",
    "version": 2
   },
   "file_extension": ".py",
   "mimetype": "text/x-python",
   "name": "python",
   "nbconvert_exporter": "python",
   "pygments_lexer": "ipython2",
   "version": "2.7.11"
  }
 },
 "nbformat": 4,
 "nbformat_minor": 0
}
